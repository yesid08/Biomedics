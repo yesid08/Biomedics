{
 "cells": [
  {
   "cell_type": "code",
   "execution_count": null,
   "metadata": {},
   "outputs": [],
   "source": [
    "import numpy as np\n",
    "import cv2\n",
    "import os"
   ]
  },
  {
   "cell_type": "code",
   "execution_count": null,
   "metadata": {},
   "outputs": [],
   "source": [
    "cap = cv2.VideoCapture('001_0.mpg')\n",
    "# params for ShiTomasi corner detection\n",
    "feature_params = dict( maxCorners = 100,\n",
    "                       qualityLevel = 0.3,\n",
    "                       minDistance = 7,\n",
    "                       blockSize = 7 )\n",
    "# Parameters for lucas kanade optical flow\n",
    "lk_params = dict( winSize  = (15,15),\n",
    "                  maxLevel = 2,\n",
    "                  criteria = (cv2.TERM_CRITERIA_EPS | cv2.TERM_CRITERIA_COUNT, 10, 0.03))\n",
    "# Create some random colors\n",
    "color = np.random.randint(0,255,(100,3))\n",
    "# Take first frame and find corners in it\n",
    "ret, old_frame = cap.read()\n",
    "old_gray = cv2.cvtColor(old_frame, cv2.COLOR_BGR2GRAY)\n",
    "p0 = cv2.goodFeaturesToTrack(old_gray, mask = None, **feature_params)\n",
    "# Create a mask image for drawing purposes\n",
    "mask = np.zeros_like(old_frame)\n",
    "while(1):\n",
    "    ret,frame = cap.read()\n",
    "    frame_gray = cv2.cvtColor(frame, cv2.COLOR_BGR2GRAY)\n",
    "    # calculate optical flow\n",
    "    p1, st, err = cv2.calcOpticalFlowPyrLK(old_gray, frame_gray, p0, None, **lk_params)\n",
    "    # Select good points\n",
    "    good_new = p1[st==1]\n",
    "    good_old = p0[st==1]\n",
    "    # draw the tracks\n",
    "    for i,(new,old) in enumerate(zip(good_new,good_old)):\n",
    "        a,b = new.ravel()\n",
    "        c,d = old.ravel()\n",
    "        mask = cv2.line(mask, (a,b),(c,d), color[i].tolist(), 2)\n",
    "        frame = cv2.circle(frame,(a,b),5,color[i].tolist(),-1)\n",
    "    img = cv2.add(frame,mask)\n",
    "    cv2.imshow('frame',img)\n",
    "    k = cv2.waitKey(30) & 0xff\n",
    "    if k == 27:\n",
    "        break\n",
    "    # Now update the previous frame and previous points\n",
    "    old_gray = frame_gray.copy()\n",
    "    p0 = good_new.reshape(-1,1,2)\n",
    "cv2.destroyAllWindows()\n",
    "cap.release()"
   ]
  },
  {
   "cell_type": "markdown",
   "metadata": {},
   "source": [
    "# A partir de aqui el vector denso optico"
   ]
  },
  {
   "cell_type": "code",
   "execution_count": null,
   "metadata": {},
   "outputs": [],
   "source": [
    "import numpy as np\n",
    "import cv2\n",
    "import os\n",
    "from PIL import Image \n",
    "import scipy.misc\n",
    "import imageio\n"
   ]
  },
  {
   "cell_type": "code",
   "execution_count": null,
   "metadata": {},
   "outputs": [],
   "source": [
    "# para crear los directorios nuevos\n",
    "path=\"imgs-nuevas/001\"\n",
    "for folder in os.listdir('png-segments'):\n",
    "    path=\"imgs_nuevas/\"+folder\n",
    "    try:\n",
    "        os.makedirs(path)\n",
    "    except:\n",
    "        print(\"Ya existe el directorio\"+path)"
   ]
  },
  {
   "cell_type": "code",
   "execution_count": null,
   "metadata": {},
   "outputs": [],
   "source": [
    "img_array = []\n",
    "img_array_2 = []\n",
    "path=\"png-segments\"\n",
    "# ñ=0\n",
    "\n",
    "# resaltar el movimiento a partir de la resta de dos imagenes y un rango de -5 al valor max\n",
    "img=np.array(cv2.imread(\"png-segments/001/frame000027_cam0.png\"),np.float32)\n",
    "\n",
    "vec=np.zeros(img.shape[:2])\n",
    "par=1\n",
    "path=\"png-segments\"\n",
    "\n",
    "for folder_name_rep in os.listdir(path): #for para recorrer cada folder\n",
    "    folder_name=\"png-segments/\"+folder_name_rep\n",
    "    for frame in os.listdir(folder_name):#for para recorrer los frames dentro de cada folder\n",
    "        if(par==1):\n",
    "            frame_uno=folder_name+\"/\"+frame\n",
    "            frame_uno = np.array(cv2.imread(frame_uno),np.float32) #aquí está el frame\n",
    "            par=2\n",
    "        else:\n",
    "            frame_dos=folder_name+\"/\"+frame                \n",
    "            frame_dos = np.array(cv2.imread(frame_dos),np.float32) #aquí está el frame\n",
    "    #         flow=np.array(abs(frame_dos[:240,:]-frame_uno[:240,:]),np.uint8)[:,:,0] #resultado del movimiento\n",
    "            flow=np.array(abs(frame_dos[:240,:]-frame_uno[:240,:]),np.uint8)#resultado del movimiento, diferencia de frames\n",
    "\n",
    "            flow3=Image.fromarray(flow,'RGB')\n",
    "    #         display(flow3)\n",
    "            max_value=np.max(flow)\n",
    "            for i in range(flow.shape[0]):\n",
    "                for j in range(flow.shape[1]):\n",
    "                    if(flow[i,j,0]<=max_value-100):\n",
    "                        flow[i,j]=0\n",
    "            frame_uno=frame_dos\n",
    "    #         flow2=Image.fromarray(flow,'RGB')\n",
    "    #         display(flow2)\n",
    "\n",
    "            img_array.append(flow) #array con las imagenes resultantes\n",
    "            img_array_2.append(flow3) \n",
    "            path='imgs_nuevas/'+folder_name_rep+'/'\n",
    "        #     print(path)\n",
    "            for i in range(len(img_array)):        #apartir de aquí se producen y guardan las imgs denetro de cada uno de sus \n",
    "#                 folders respectivos\n",
    "                try:\n",
    "        #             scipy.misc.imsave((path+str(i)+'img.jpg'), img_array[i])\n",
    "                    imageio.imwrite((path+str(i)+'img.jpg'), img_array[i])\n",
    "                except:\n",
    "                    print(\"No se puede crear la img: \"+path+img_array[i])\n",
    "#             ñ=ñ+1\n",
    "print('salió del for')"
   ]
  },
  {
   "cell_type": "code",
   "execution_count": null,
   "metadata": {},
   "outputs": [],
   "source": [
    "flow=Image.fromarray(img_array[5],'RGB')\n",
    "# flow=img_array_2[5]\n",
    "display(type(flow))\n",
    "display(flow)\n",
    "# print(img_array[0].shape)"
   ]
  },
  {
   "cell_type": "code",
   "execution_count": null,
   "metadata": {},
   "outputs": [],
   "source": [
    "# to create image to image\n",
    "import scipy.misc\n",
    "for folder in os.listdir('imgs_nuevas'):\n",
    "    path='imgs_nuevas/'+folder+'/'\n",
    "#     print(path)\n",
    "    for i in range(len(img_array)):        \n",
    "        try:\n",
    "#             scipy.misc.imsave((path+str(i)+'img.jpg'), img_array[i])\n",
    "            imageio.imwrite((path+str(i)+'img.jpg'), img_array[i])\n",
    "        except:\n",
    "            print(\"No se puede crear la img: \"+path+img_array[i])\n",
    "    "
   ]
  },
  {
   "cell_type": "code",
   "execution_count": null,
   "metadata": {},
   "outputs": [],
   "source": [
    "import imageio\n",
    "\n",
    "path=\"imgs_nuevas/001/\"\n",
    "imageio.imwrite(path+'file.jpg', im[:, :, 0])"
   ]
  },
  {
   "cell_type": "code",
   "execution_count": null,
   "metadata": {},
   "outputs": [],
   "source": [
    "h,w,l=img_array[0].shape\n",
    "size=(h,w)\n",
    "out = cv2.VideoWriter('EsteSi.avi',cv2.VideoWriter_fourcc(*'DIVX'), 15, size)\n",
    "out2 = cv2.VideoWriter('EsteSi_dos.avi',cv2.VideoWriter_fourcc(*'DIVX'), 15, size)\n",
    "# out = cv2.VideoWriter('EsteSi.avi',-1, 15, size)\n",
    "\n",
    "for i in range(len(img_array)):\n",
    "    out.write(img_array[i])\n",
    "    out2.write(img_array[i])\n",
    "# Release everything if job is finished\n",
    "# cap.release()\n"
   ]
  },
  {
   "cell_type": "code",
   "execution_count": null,
   "metadata": {},
   "outputs": [],
   "source": [
    "out.release()\n",
    "cv2.destroyAllWindows()"
   ]
  },
  {
   "cell_type": "markdown",
   "metadata": {},
   "source": [
    "# "
   ]
  },
  {
   "cell_type": "code",
   "execution_count": null,
   "metadata": {},
   "outputs": [],
   "source": [
    "# img_prueba=cv2.imread('png-segments/002/frame000024_cam0.png')\n",
    "# img_prueba2=cv2.imread('png-segments/002/frame000025_cam0.png')\n",
    "img_prueba=np.array(cv2.imread('png-segments/002/frame000024_cam0.png'),np.float32)\n",
    "img_prueba2=np.array(cv2.imread('png-segments/002/frame000025_cam0.png'),np.float32)\n",
    "\n",
    "flow=np.array(abs(img_prueba2-img_prueba),np.uint8)\n",
    "flow[0,2]=255\n",
    "print(flow.shape)\n",
    "flow=Image.fromarray(flow,'RGB')\n",
    "display(flow)"
   ]
  },
  {
   "cell_type": "code",
   "execution_count": null,
   "metadata": {},
   "outputs": [],
   "source": [
    "\n",
    "# Dense Optical Flow in OpenCV\n",
    "cap = cv2.VideoCapture(\"project.avi\")\n",
    "ret, frame1 = cap.read()\n",
    "prvs = cv2.cvtColor(frame1,cv2.COLOR_BGR2GRAY)\n",
    "hsv = np.zeros_like(frame1)\n",
    "hsv[...,1] = 255\n",
    "while(1):\n",
    "    ret, frame2 = cap.read()\n",
    "    next = cv2.cvtColor(frame2,cv2.COLOR_BGR2GRAY)\n",
    "    flow = cv2.calcOpticalFlowFarneback(prvs,next, None, 0.5, 3, 15, 3, 5, 1.2, 0)\n",
    "    mag, ang = cv2.cartToPolar(flow[...,0], flow[...,1])\n",
    "    hsv[...,0] = ang*180/np.pi/2\n",
    "    hsv[...,2] = cv2.normalize(mag,None,0,255,cv2.NORM_MINMAX)\n",
    "    bgr = cv2.cvtColor(hsv,cv2.COLOR_HSV2BGR)\n",
    "    cv2.imshow('frame2',bgr)\n",
    "    k = cv2.waitKey(30) & 0xff\n",
    "    if k == 27:\n",
    "        break\n",
    "    elif k == ord('s'):\n",
    "        cv2.imwrite('opticalfb.png',frame2)\n",
    "        cv2.imwrite('opticalhsv.png',bgr)\n",
    "    prvs = next\n",
    "cap.release()\n",
    "cv2.destroyAllWindows()"
   ]
  },
  {
   "cell_type": "code",
   "execution_count": null,
   "metadata": {},
   "outputs": [],
   "source": [
    "import cv2\n",
    "import numpy as np\n",
    "\n",
    "writer = cv2.VideoWriter('test1.avi', cv2.VideoWriter_fourcc(*'PIM1'), 25, (640, 480), False)\n",
    "for i in range(100):\n",
    "    x = np.random.randint(255, size=(480, 640)).astype('uint8')\n",
    "    writer.write(x)\n",
    "writer"
   ]
  },
  {
   "cell_type": "code",
   "execution_count": null,
   "metadata": {},
   "outputs": [],
   "source": [
    "for file in os.listdir(\"videos\"):\n",
    "#     print(file)\n",
    "    cap = cv2.VideoCapture(file)\n",
    "\n",
    "    # Check if camera opened successfully\n",
    "    if (cap.isOpened()== False): \n",
    "      print(\"Error opening video stream or file\")\n",
    "\n",
    "    # Read until video is completed\n",
    "    while(cap.isOpened()):\n",
    "      # Capture frame-by-frame\n",
    "      ret, frame = cap.read()\n",
    "      if ret == True:\n",
    "\n",
    "        # Display the resulting frame\n",
    "        cv2.imshow('Frame',frame[:250,:])\n",
    "\n",
    "        # Press Q on keyboard to  exit\n",
    "        if cv2.waitKey(25) & 0xFF == ord('q'):\n",
    "          break\n",
    "\n",
    "      # Break the loop\n",
    "      else: \n",
    "        break\n",
    "\n",
    "    # When everything done, release the video capture object\n",
    "    cap.release()\n",
    "    # Closes all the frames\n",
    "cv2.destroyAllWindows()"
   ]
  },
  {
   "cell_type": "code",
   "execution_count": null,
   "metadata": {},
   "outputs": [],
   "source": [
    "cv2.resize?\n"
   ]
  },
  {
   "cell_type": "code",
   "execution_count": null,
   "metadata": {},
   "outputs": [],
   "source": [
    "# vidcap = cv2.VideoCapture('myvid2.mp4')\n",
    "success,image = cap.read()\n",
    "count = 0;\n",
    "print (\"I am in success\")\n",
    "type(cap)\n",
    "while success:\n",
    "  success,image = cap.read()\n",
    "  height , width , layers =  image.shape\n",
    "  new_h=height/2\n",
    "  new_w=width/2\n",
    "  resize = cv2.resize(image, (new_w, new_h)) \n",
    "  cv2.imwrite(\"%03d.jpg\" % count, resize) "
   ]
  }
 ],
 "metadata": {
  "kernelspec": {
   "display_name": "Python 3",
   "language": "python",
   "name": "python3"
  },
  "language_info": {
   "codemirror_mode": {
    "name": "ipython",
    "version": 3
   },
   "file_extension": ".py",
   "mimetype": "text/x-python",
   "name": "python",
   "nbconvert_exporter": "python",
   "pygments_lexer": "ipython3",
   "version": "3.6.5"
  }
 },
 "nbformat": 4,
 "nbformat_minor": 2
}

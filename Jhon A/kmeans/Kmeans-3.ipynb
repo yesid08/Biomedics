{
 "cells": [
  {
   "cell_type": "code",
   "execution_count": 1,
   "metadata": {},
   "outputs": [],
   "source": [
    "from sklearn.cluster import KMeans #k-means\n",
    "import numpy as np #para crear los vectores y manejarlos\n",
    "from PIL import Image #para trabajar las imgs\n",
    "import cv2\n",
    "import os, os.path #Para leer los archivos en los directorios necesarios"
   ]
  },
  {
   "cell_type": "code",
   "execution_count": 11,
   "metadata": {},
   "outputs": [],
   "source": [
    "def getMatrix():\n",
    "    j=0\n",
    "    matriz={}\n",
    "    i=0\n",
    "    par=1\n",
    "    vector=np.zeros(1)\n",
    "    path=\"png-segments\"\n",
    "    for folder_name in os.listdir(path): #for para recorrer cada folder\n",
    "        folder_name=\"png-segments/\"+folder_name\n",
    "               \n",
    "        for frame in os.listdir(folder_name):#for para recorrer los frames dentro de cada folder\n",
    "            if(par==1):\n",
    "                frame=folder_name+\"/\"+frame\n",
    "                frame = np.array(cv2.imread(frame))\n",
    "\n",
    "                frame=np.uint32(np.array(np.ravel(frame))) #convertir la img(matriz) en vector\n",
    "                vector=vector+frame #cada img se suma para ponderarse cada 15 frames\n",
    "                if(i==15):\n",
    "                    vector=vector/15 #al estar sumados 15 vectores, los promedio\n",
    "                    matriz[j]=vector #se agregan a la matriz\n",
    "                    j=j+1\n",
    "                    if(int(j/100)*100==j):\n",
    "                        print(j)\n",
    "                    i=0 #y se reicnicia todo\n",
    "                    vector=np.zeros(1)\n",
    "    #                 break #break innecesario para solo tomar los 5 primeros frames por carpeta\n",
    "                i=i+1\n",
    "                par=0\n",
    "            else:\n",
    "                par=1\n",
    "\n",
    "\n",
    "\n",
    "    return(matriz)    "
   ]
  },
  {
   "cell_type": "code",
   "execution_count": 12,
   "metadata": {},
   "outputs": [
    {
     "name": "stdout",
     "output_type": "stream",
     "text": [
      "100\n",
      "200\n",
      "300\n",
      "400\n",
      "500\n"
     ]
    }
   ],
   "source": [
    "matriz=getMatrix() #matriz generada por los frames"
   ]
  },
  {
   "cell_type": "code",
   "execution_count": 13,
   "metadata": {},
   "outputs": [
    {
     "name": "stdout",
     "output_type": "stream",
     "text": [
      "524\n",
      "<class 'dict'>\n"
     ]
    }
   ],
   "source": [
    "print(len(matriz))\n",
    "print(type(matriz))"
   ]
  },
  {
   "cell_type": "code",
   "execution_count": 14,
   "metadata": {},
   "outputs": [],
   "source": [
    "#lists\n",
    "temp = []\n",
    "dictList = []\n",
    "for key, value in matriz.items():\n",
    "    temp = [key,value]\n",
    "    dictList.append(value)\n",
    "# dictList=np.asarray(dictList)\n",
    "# dictList"
   ]
  },
  {
   "cell_type": "code",
   "execution_count": 16,
   "metadata": {},
   "outputs": [],
   "source": [
    "dictList=np.asarray(dictList,np.uint32)"
   ]
  },
  {
   "cell_type": "code",
   "execution_count": 17,
   "metadata": {},
   "outputs": [
    {
     "name": "stdout",
     "output_type": "stream",
     "text": [
      "[0 0 0 0 0 2 2 2 0 0 2 2 2 2 2 1 1 1 1 1 1 2 2 0 0 0 2 2 2 2 2 2 2 2 2 2 2\n",
      " 1 1 1 2 2 0 0 0 2 2 2 2 2 2 2 2 2 2 2 2 2 2 2 2 2 2 2 2 2 2 2 2 2 2 2 2 2\n",
      " 2 1 1 1 1 1 1 1 2 2 2 2 2 2 1 1 9 1 1 1 9 1 1 2 2 2 2 2 2 2 1 1 1 1 1 1 1\n",
      " 2 2 7 7 7 7 7 2 7 7 7 7 7 2 2 7 7 7 7 7 7 7 7 7 7 7 7 2 2 2 2 2 2 1 1 1 1\n",
      " 1 1 1 1 7 7 7 7 7 7 7 7 7 7 7 7 7 7 7 7 7 7 7 7 2 2 2 2 2 2 2 2 2 2 2 2 2\n",
      " 1 1 1 2 2 2 2 2 2 2 2 2 2 2 2 2 7 7 0 0 0 0 0 0 0 0 0 0 3 3 3 3 3 3 3 3 3\n",
      " 3 3 5 5 5 5 5 5 3 3 3 3 3 3 3 5 5 5 5 5 3 3 3 5 5 5 5 4 3 3 0 0 0 0 0 0 0\n",
      " 0 0 0 0 0 3 3 3 0 0 0 0 0 0 0 0 5 9 9 4 9 9 3 3 3 3 3 3 3 3 3 4 4 4 4 4 4\n",
      " 4 9 4 3 3 4 4 4 4 4 4 4 4 4 4 4 4 4 4 3 3 3 0 0 4 4 4 8 8 8 8 8 8 4 4 4 7\n",
      " 7 4 4 4 4 4 4 4 4 4 4 9 4 4 4 4 8 8 8 8 8 8 8 4 4 0 0 0 4 4 8 8 8 8 8 8 8\n",
      " 8 8 4 4 8 8 8 8 8 8 8 8 8 8 8 8 4 4 4 4 4 6 6 6 6 6 4 9 9 4 4 6 6 4 4 6 6\n",
      " 4 4 4 4 4 4 6 6 7 7 7 7 6 6 6 7 5 9 5 5 5 5 5 9 5 9 9 5 5 5 5 5 5 5 5 5 5\n",
      " 5 5 5 9 9 5 5 5 9 5 5 5 5 5 4 4 4 4 4 4 4 4 9 4 4 4 4 9 9 5 4 5 4 4 4 5 4\n",
      " 5 5 5 5 5 5 5 5 5 5 5 5 5 5 5 5 5 5 5 5 5 5 5 5 7 7 7 2 2 2 5 5 4 4 4 4 4\n",
      " 6 6 6 6 2 2]\n",
      "(524,)\n"
     ]
    }
   ],
   "source": [
    "# ingresamos los arrays, en forma de matriz al kmeans\n",
    "k=10\n",
    "# print(np.array(dic_one[0]).reshape(-1, 1))\n",
    "kmeans = KMeans(n_clusters=k, random_state=0).fit(dictList)\n",
    "print(kmeans.labels_)\n",
    "print(kmeans.labels_.shape)\n",
    "\n",
    "# dic_one.values()\n",
    "# print(kmeans.predict([[2, 1]]))"
   ]
  },
  {
   "cell_type": "code",
   "execution_count": null,
   "metadata": {},
   "outputs": [],
   "source": [
    "print(type(kmeans.labels_))"
   ]
  },
  {
   "cell_type": "code",
   "execution_count": null,
   "metadata": {},
   "outputs": [],
   "source": [
    "# crea el vector one hot encoding y coloca el 1 en la posición devuelta por el No de cluster al que pertenece la predicción\n",
    "vohe=np.zeros(k)\n",
    "vohe[kmeans.predict([[2, 1]])]=1\n",
    "vohe"
   ]
  },
  {
   "cell_type": "code",
   "execution_count": null,
   "metadata": {},
   "outputs": [],
   "source": [
    "a=np.ones(3)\n",
    "b=np.ones(5)*5\n",
    "# (a+b)/2\n",
    "np.append(a,(5,2))\n"
   ]
  },
  {
   "cell_type": "code",
   "execution_count": 26,
   "metadata": {},
   "outputs": [
    {
     "data": {
      "text/plain": [
       "array([3, 4, 5, 3, 4, 5], dtype=int64)"
      ]
     },
     "execution_count": 26,
     "metadata": {},
     "output_type": "execute_result"
    }
   ],
   "source": [
    "a = np.array([[1, 3, 5, 6, 9, 10, 14, 15, 56],[1, 3, 5, 6, 9, 10, 14, 15, 56]])\n",
    "\n",
    "np.where(np.logical_and(a>=6, a<=10))[1]"
   ]
  }
 ],
 "metadata": {
  "kernelspec": {
   "display_name": "Python 3",
   "language": "python",
   "name": "python3"
  },
  "language_info": {
   "codemirror_mode": {
    "name": "ipython",
    "version": 3
   },
   "file_extension": ".py",
   "mimetype": "text/x-python",
   "name": "python",
   "nbconvert_exporter": "python",
   "pygments_lexer": "ipython3",
   "version": "3.6.5"
  }
 },
 "nbformat": 4,
 "nbformat_minor": 2
}

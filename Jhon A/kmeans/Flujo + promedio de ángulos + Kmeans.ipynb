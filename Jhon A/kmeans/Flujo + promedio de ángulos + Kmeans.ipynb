{
 "cells": [
  {
   "cell_type": "code",
   "execution_count": 1,
   "metadata": {},
   "outputs": [
    {
     "name": "stdout",
     "output_type": "stream",
     "text": [
      "File Removed!\n"
     ]
    }
   ],
   "source": [
    "from sklearn.cluster import KMeans #k-means\n",
    "import numpy as np\n",
    "import pandas as pd\n",
    "import cv2\n",
    "import os\n",
    "from PIL import Image \n",
    "import scipy.misc\n",
    "import imageio\n",
    "import glob\n",
    "import csv\n",
    "\n",
    "\n",
    "try:\n",
    "    os.remove(\"vectores_frames_x_video.csv\")\n",
    "    print(\"File Removed!\")\n",
    "except:\n",
    "    print(\"El archivo no existe o no se removió\")"
   ]
  },
  {
   "cell_type": "code",
   "execution_count": 2,
   "metadata": {},
   "outputs": [],
   "source": [
    "def create_words_counter_per_sentence(trainFileName):\n",
    "    train_data = pd.read_csv(trainFileName,delimiter=\";\")\n",
    "    sentences_train = [sentence[:len(sentence) -1 ] for sentence in train_data.orth]\n",
    "    sentences = sentences_train\n",
    "    numberofWords = []\n",
    "    for sentence in sentences:\n",
    "        sentence = sentence.split()\n",
    "        counter = 0\n",
    "        for  word in sentence:   \n",
    "            word = word.lower()\n",
    "            if((word != \"[silence]\" and word != \"[silence\")):\n",
    "#                 print (word,counter)\n",
    "                counter+=1\n",
    "        numberofWords.append(counter)\n",
    "    del train_data\n",
    "    del sentences\n",
    "    del sentences_train\n",
    "    return numberofWords"
   ]
  },
  {
   "cell_type": "code",
   "execution_count": 3,
   "metadata": {},
   "outputs": [],
   "source": [
    "# para determinar la duración de los videos\n",
    "def getLength(filename):\n",
    "    v=cv2.VideoCapture(filename)\n",
    "    v.set(cv2.CAP_PROP_POS_AVI_RATIO,1)\n",
    "    segs = v.get(cv2.CAP_PROP_POS_MSEC)\n",
    "    segs=segs/1000\n",
    "    return segs\n",
    "def duraciones_de_videos(path):\n",
    "    duraciones=[]    \n",
    "    for folder in os.listdir(str(path)):\n",
    "        for file in os.listdir(path+folder):\n",
    "            video=path+folder+\"/\"+file\n",
    "            lg=getLength(video)\n",
    "            duraciones.append(lg)\n",
    "    return duraciones"
   ]
  },
  {
   "cell_type": "code",
   "execution_count": 4,
   "metadata": {},
   "outputs": [],
   "source": [
    "def getMean_noZeros(lista):\n",
    "    suma=0\n",
    "    contador=0\n",
    "    for i in lista:\n",
    "        if(i!=0):\n",
    "            contador=contador+1\n",
    "            suma=suma+i\n",
    "#             print(\"I = \"+str(i)) \n",
    "    return (suma/contador)"
   ]
  },
  {
   "cell_type": "code",
   "execution_count": 5,
   "metadata": {},
   "outputs": [
    {
     "name": "stdout",
     "output_type": "stream",
     "text": [
      "Nombre del vídeo 001.avi\n",
      "Tamaño del vec de angulos por video = 88\n",
      "Tamaño del vector_cortado de ang = 29.333333333333332\n",
      "Tamaño del vector_cortado de ang = 29.333333333333332\n",
      "Tamaño del vector_cortado de ang = 29.333333333333332\n",
      "Nombre del vídeo 002.avi\n",
      "Tamaño del vec de angulos por video = 163\n",
      "Tamaño del vector_cortado de ang = 32.6\n",
      "Tamaño del vector_cortado de ang = 32.6\n",
      "Tamaño del vector_cortado de ang = 32.6\n",
      "Tamaño del vector_cortado de ang = 32.6\n",
      "Tamaño del vector_cortado de ang = 32.6\n"
     ]
    }
   ],
   "source": [
    "# Dense Optical Flow in OpenCV y creo el vector de vectores\n",
    "filename = \"../../corpus/train.sentences.pronunciations.multi.translations.csv\"\n",
    "totalWords = create_words_counter_per_sentence(filename) \n",
    "videos=\"Files/videos_nuevos/\"\n",
    "duraciones = duraciones_de_videos(videos)\n",
    "\n",
    "path='Files/videos_nuevos/'\n",
    "array_vecs=[]\n",
    "array_imgs=[]\n",
    "array_movs=[]\n",
    "# vector_de_frames=[]\n",
    "# vector_de_frames=np.zeros(1)\n",
    "vector_de_angulos=[]\n",
    "vector_de_angulos_por_video=[]\n",
    "posicion=0\n",
    "contador=0\n",
    "for folder in os.listdir(path):    \n",
    "    for file in os.listdir(str(path+folder)):\n",
    "        print(\"Nombre del vídeo \" + file)\n",
    "        cap = cv2.VideoCapture(str(path+folder+'/'+file))\n",
    "        ret, frame1 = cap.read()\n",
    "        prvs = cv2.cvtColor(frame1,cv2.COLOR_BGR2GRAY)\n",
    "        hsv = np.zeros_like(frame1)\n",
    "        hsv[...,1] = 255\n",
    "\n",
    "        while(1):\n",
    "            ret, frame2 = cap.read()\n",
    "            try:\n",
    "                next = cv2.cvtColor(frame2,cv2.COLOR_BGR2GRAY)\n",
    "                flow = cv2.calcOpticalFlowFarneback(prvs,next, None, 0.5, 3, 15, 3, 5, 1.2, 0)\n",
    "                \n",
    "                mag, ang = cv2.cartToPolar(flow[...,0], flow[...,1])\n",
    "\n",
    "                array_vecs.append(([ang]))\n",
    "\n",
    "                hsv[...,0] = ang*180/np.pi/2\n",
    "                vector_de_angulos=np.array(hsv[...,0]).flatten()\n",
    "                angulo_promedio_por_frame=getMean_noZeros(vector_de_angulos)\n",
    "                vector_de_angulos_por_video.append(angulo_promedio_por_frame)\n",
    "#                 contador=contador+1\n",
    "#                 print(contador)\n",
    "\n",
    "                prvs = next\n",
    "            except:\n",
    "                break\n",
    "        tamaño_vec=len(vector_de_angulos_por_video)\n",
    "        print(\"Tamaño del vec de angulos por video = \"+str(tamaño_vec))\n",
    "        with open('vectores_frames_x_video.csv', 'a', newline='') as csvfile:\n",
    "#                 filewriter = csv.writer(csvfile, delimiter=',',quotechar='|', quoting=csv.QUOTE_MINIMAL)\n",
    "                filewriter = csv.writer(csvfile)\n",
    "                for i in range(totalWords[posicion]):\n",
    "                    comienzo=int((tamaño_vec/totalWords[posicion])*(i))\n",
    "                    fin=int((tamaño_vec/totalWords[posicion])*(i+1))\n",
    "                    filewriter.writerow(vector_de_angulos_por_video[comienzo:fin])\n",
    "                    print(\"Tamaño del vector_cortado de ang = \"+str((tamaño_vec/totalWords[posicion])))\n",
    "        vector_de_angulos_por_video=[]        \n",
    "#     vector_de_frames=[]\n",
    "    \n",
    "    posicion=posicion+1    \n",
    "    ##las siguientes dos lineas son para detener la ejecución en el video que se determine en posición\n",
    "    if(posicion==2): \n",
    "        break\n",
    "cap.release()\n",
    "cv2.destroyAllWindows()"
   ]
  },
  {
   "cell_type": "code",
   "execution_count": 6,
   "metadata": {},
   "outputs": [
    {
     "name": "stdout",
     "output_type": "stream",
     "text": [
      "(29,)\n",
      "(29,)\n",
      "(30,)\n",
      "(32,)\n",
      "(33,)\n",
      "(32,)\n",
      "(33,)\n",
      "(33,)\n"
     ]
    }
   ],
   "source": [
    "with open('vectores_frames_x_video.csv', 'r') as f:\n",
    "#     reader = csv.reader(f, delimiter=',', quotechar='|')\n",
    "    reader = csv.reader(f)\n",
    "    # read file row by row\n",
    "    i=0\n",
    "    for row in reader:\n",
    "#         i=i+len(row)\n",
    "        print(np.array(row).shape)\n",
    "#         print(row)\n",
    "# print(vector_de_ángulos_por_frame)\n",
    "   "
   ]
  },
  {
   "cell_type": "code",
   "execution_count": 7,
   "metadata": {},
   "outputs": [
    {
     "name": "stdout",
     "output_type": "stream",
     "text": [
      "Frames del video 1 = 88.99999999999999--- Frame por recorte = 29.66666666666666N Recortes = 3\n",
      "Frames del video 2 = 164.0--- Frame por recorte = 32.8N Recortes = 5\n",
      "253.0\n",
      "381\n"
     ]
    }
   ],
   "source": [
    "# totalWords\n",
    "# duraciones\n",
    "print(\"Frames del video 1 = \"+str(30*duraciones[0])+\"--- Frame por recorte = \"+str(30*duraciones[0]/totalWords[0])+ \"N Recortes = \"+str(totalWords[0]))\n",
    "print(\"Frames del video 2 = \"+str(30*duraciones[1])+\"--- Frame por recorte = \"+str(30*duraciones[1]/totalWords[1])+ \"N Recortes = \"+str(totalWords[1]))\n",
    "# print(\"Frames del video 3 = \"+str(30*duraciones[2])+\"--- Frame por recorte = \"+str(30*duraciones[2]/totalWords[2]))\n",
    "# print(str(30*duraciones[0]+30*duraciones[1]+30*duraciones[2]))\n",
    "print(str(30*duraciones[0]+30*duraciones[1]))\n",
    "print(str(95*3+96))"
   ]
  },
  {
   "cell_type": "code",
   "execution_count": 8,
   "metadata": {},
   "outputs": [
    {
     "name": "stdout",
     "output_type": "stream",
     "text": [
      "File Removed!\n",
      "10\n",
      "50\n",
      "20\n"
     ]
    }
   ],
   "source": [
    "try:\n",
    "    os.remove(\"zeros.csv\")\n",
    "    print(\"File Removed!\")\n",
    "except:\n",
    "    print(\"El archivo no existe o no se removió\")\n",
    "    \n",
    "with open('zeros.csv', 'a', newline='') as csvfile:\n",
    "    filewriter = csv.writer(csvfile, delimiter=',',quotechar='|', quoting=csv.QUOTE_MINIMAL)\n",
    "    filewriter.writerow(np.zeros(10))\n",
    "with open('zeros.csv', 'a', newline='') as csvfile:\n",
    "            filewriter = csv.writer(csvfile, delimiter=',',quotechar='|', quoting=csv.QUOTE_MINIMAL)\n",
    "            filewriter.writerow(np.ones(50))\n",
    "with open('zeros.csv', 'a', newline='') as csvfile:\n",
    "            filewriter = csv.writer(csvfile, delimiter=',',quotechar='|', quoting=csv.QUOTE_MINIMAL)\n",
    "            filewriter.writerow(np.zeros(20))\n",
    "with open('zeros.csv', 'r') as f:\n",
    "    reader = csv.reader(f, delimiter=',', quotechar='|')\n",
    "    for row in reader:\n",
    "#         print(np.array(row).shape)\n",
    "        print(len(row))"
   ]
  }
 ],
 "metadata": {
  "kernelspec": {
   "display_name": "Python 3",
   "language": "python",
   "name": "python3"
  },
  "language_info": {
   "codemirror_mode": {
    "name": "ipython",
    "version": 3
   },
   "file_extension": ".py",
   "mimetype": "text/x-python",
   "name": "python",
   "nbconvert_exporter": "python",
   "pygments_lexer": "ipython3",
   "version": "3.6.5"
  }
 },
 "nbformat": 4,
 "nbformat_minor": 2
}

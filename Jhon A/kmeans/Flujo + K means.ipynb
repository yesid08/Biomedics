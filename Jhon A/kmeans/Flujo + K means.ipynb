{
 "cells": [
  {
   "cell_type": "code",
   "execution_count": 1,
   "metadata": {},
   "outputs": [],
   "source": [
    "from sklearn.cluster import KMeans #k-means\n",
    "import numpy as np\n",
    "import pandas as pd\n",
    "import cv2\n",
    "import os\n",
    "from PIL import Image \n",
    "import scipy.misc\n",
    "import imageio\n",
    "import glob\n",
    "import csv"
   ]
  },
  {
   "cell_type": "code",
   "execution_count": 3,
   "metadata": {},
   "outputs": [],
   "source": [
    "# para crear los directorios nuevos\n",
    "path=\"Files/imgs-nuevas/001\"\n",
    "i=0\n",
    "for folder in os.listdir('Files/png-segments'):\n",
    "    if(i==4):\n",
    "        path=\"Files/imgs_nuevas/\"+folder\n",
    "        try:\n",
    "            os.makedirs(path)\n",
    "        except:\n",
    "            print(\"Ya existe el directorio\"+path)\n",
    "        path=\"Files/videos_nuevos/\"+folder\n",
    "        try:\n",
    "            os.makedirs(path)\n",
    "        except:\n",
    "            print(\"Ya existe el directorio\"+path)\n",
    "    i=i+1"
   ]
  },
  {
   "cell_type": "code",
   "execution_count": 4,
   "metadata": {},
   "outputs": [
    {
     "name": "stdout",
     "output_type": "stream",
     "text": [
      "Lista la carpeta: 1\n",
      "salió del for\n"
     ]
    }
   ],
   "source": [
    "i=0\n",
    "img_array = []\n",
    "path=\"Files/png-segments\"\n",
    "img=cv2.imread(\"Files/png-segments/001/frame000000_cam0.png\")\n",
    "vec=np.zeros(img.shape[:2])\n",
    "par=1\n",
    "path=\"Files/png-segments\"\n",
    "ñ=1\n",
    "for folder_name_rep in os.listdir(path): #for para recorrer cada folder\n",
    "    folder_name=\"Files/png-segments/\"+folder_name_rep\n",
    "    if(i==4):\n",
    "        for frame in os.listdir(folder_name):#for para recorrer los frames dentro de cada folder\n",
    "            if(par==1):\n",
    "                frame_uno=folder_name+\"/\"+frame\n",
    "                frame_uno = np.array(cv2.imread(frame_uno),np.float32) #aquí está el frame\n",
    "                par=2\n",
    "            else:\n",
    "                frame_dos=folder_name+\"/\"+frame                \n",
    "                frame_dos = np.array(cv2.imread(frame_dos),np.float32) #aquí está el frame\n",
    "                flow=np.array(abs(frame_dos[:240,:]-frame_uno[:240,:]),np.uint8)#resultado del movimiento, diferencia de frames\n",
    "\n",
    "    #            max_value=np.max(flow)\n",
    "    #             for i in range(flow.shape[0]):\n",
    "    #                 for j in range(flow.shape[1]):\n",
    "    #                     if(flow[i,j,0]<=max_value-100):\n",
    "    #                         flow[i,j]=0\n",
    "                frame_uno=frame_dos\n",
    "\n",
    "                img_array.append(flow) #array con las imagenes resultantes\n",
    "                path='Files/imgs_nuevas/'+folder_name_rep+'/'\n",
    "        for i in range(len(img_array)):        #apartir de aquí se producen y guardan las imgs denetro de cada uno de sus \n",
    "    #folders respectivos\n",
    "            try:\n",
    "                imageio.imwrite((path+str(i)+'img.jpg'), img_array[i])\n",
    "            except:\n",
    "                print(\"No se puede crear la img: \"+path+img_array[i])\n",
    "        print('Lista la carpeta: '+str(ñ))\n",
    "        ñ=ñ+1\n",
    "    #     break\n",
    "    i=i+1\n",
    "    \n",
    "print('salió del for')"
   ]
  },
  {
   "cell_type": "code",
   "execution_count": null,
   "metadata": {},
   "outputs": [],
   "source": [
    "# crear videos a partir de los frames optimizados\n",
    "path=\"Files/videos_nuevos/\"\n",
    "for folder in os.listdir(path):\n",
    "    print(folder)\n",
    "    img_array = []\n",
    "    try:\n",
    "        for filename in glob.glob('Files/imgs_nuevas/'+folder+'/*.jpg'):\n",
    "            img = cv2.imread(filename)\n",
    "            height, width, layers = img.shape\n",
    "            size = (width,height)\n",
    "            img_array.append(img)\n",
    "\n",
    "\n",
    "        out = cv2.VideoWriter(path+folder+'/'+folder+'.avi',cv2.VideoWriter_fourcc(*'DIVX'), 30, size)\n",
    "\n",
    "        for i in range(len(img_array)):\n",
    "            out.write(img_array[i])\n",
    "    except:\n",
    "        print('No se puede crear el video')\n",
    "#     break\n",
    "out.release()"
   ]
  },
  {
   "cell_type": "markdown",
   "metadata": {},
   "source": [
    "# Dense Optical Flow y k-means"
   ]
  },
  {
   "cell_type": "code",
   "execution_count": 5,
   "metadata": {},
   "outputs": [],
   "source": [
    "def create_words_counter_per_sentence(trainFileName):\n",
    "    train_data = pd.read_csv(trainFileName,delimiter=\";\")\n",
    "    sentences_train = [sentence[:len(sentence) -1 ] for sentence in train_data.orth]\n",
    "    sentences = sentences_train\n",
    "    numberofWords = []\n",
    "    for sentence in sentences:\n",
    "        sentence = sentence.split()\n",
    "        counter = 0\n",
    "        for  word in sentence:   \n",
    "            word = word.lower()\n",
    "            if((word != \"[silence]\" and word != \"[silence\")):\n",
    "#                 print (word,counter)\n",
    "                counter+=1\n",
    "        numberofWords.append(counter)\n",
    "    del train_data\n",
    "    del sentences\n",
    "    del sentences_train\n",
    "    return numberofWords"
   ]
  },
  {
   "cell_type": "code",
   "execution_count": 6,
   "metadata": {},
   "outputs": [],
   "source": [
    "# para determinar la duración de los videos\n",
    "def getLength(filename):\n",
    "    v=cv2.VideoCapture(filename)\n",
    "    v.set(cv2.CAP_PROP_POS_AVI_RATIO,1)\n",
    "    segs = v.get(cv2.CAP_PROP_POS_MSEC)\n",
    "    segs=segs/1000\n",
    "    return segs\n",
    "def duraciones_de_videos(path):\n",
    "    duraciones=[]    \n",
    "    for folder in os.listdir(str(path)):\n",
    "        for file in os.listdir(path+folder):\n",
    "            video=path+folder+\"/\"+file\n",
    "            lg=getLength(video)\n",
    "            duraciones.append(lg)\n",
    "    return duraciones"
   ]
  },
  {
   "cell_type": "code",
   "execution_count": 12,
   "metadata": {
    "scrolled": true
   },
   "outputs": [
    {
     "name": "stdout",
     "output_type": "stream",
     "text": [
      "001.avi\n",
      "[0. 0. 0. ... 0. 0. 0.]\n",
      "(7096320,)\n",
      "<class 'numpy.ndarray'>\n",
      "[ 0.  0.  0. ... 90. 90. 90.]\n",
      "(7096320,)\n",
      "<class 'numpy.ndarray'>\n",
      "[ 0.  0.  0. ... 90. 90. 90.]\n",
      "(7096320,)\n",
      "<class 'numpy.ndarray'>\n"
     ]
    }
   ],
   "source": [
    "# Dense Optical Flow in OpenCV y creo el vector de vectores\n",
    "filename = \"../../corpus/train.sentences.pronunciations.multi.translations.csv\"\n",
    "totalWords = create_words_counter_per_sentence(filename) \n",
    "videos=\"Files/videos_nuevos/\"\n",
    "duraciones = duraciones_de_videos(videos)\n",
    "\n",
    "path='Files/videos_nuevos/'\n",
    "array_vecs=[]\n",
    "array_imgs=[]\n",
    "array_movs=[]\n",
    "vector_de_frames=[]\n",
    "posicion=0\n",
    "contador=0\n",
    "for folder in os.listdir(path):    \n",
    "    for file in os.listdir(str(path+folder)):\n",
    "        print(file)\n",
    "        cap = cv2.VideoCapture(str(path+folder+'/'+file))\n",
    "        ret, frame1 = cap.read()\n",
    "        prvs = cv2.cvtColor(frame1,cv2.COLOR_BGR2GRAY)\n",
    "        hsv = np.zeros_like(frame1)\n",
    "        hsv[...,1] = 255\n",
    "\n",
    "        while(1):\n",
    "            ret, frame2 = cap.read()\n",
    "            try:\n",
    "                next = cv2.cvtColor(frame2,cv2.COLOR_BGR2GRAY)\n",
    "                flow = cv2.calcOpticalFlowFarneback(prvs,next, None, 0.5, 3, 15, 3, 5, 1.2, 0)\n",
    "                \n",
    "                mag, ang = cv2.cartToPolar(flow[...,0], flow[...,1])\n",
    "\n",
    "                array_vecs.append(([ang]))\n",
    "\n",
    "                hsv[...,0] = ang*180/np.pi/2\n",
    "#                 hsv[...,2] = cv2.normalize(mag,None,0,255,cv2.NORM_MINMAX)\n",
    "#                 print(np.array(hsv[...,0]).shape) #hsv[...,0] es la que posee la información en ángulos del mov\n",
    "#                 bgr = cv2.cvtColor(hsv,cv2.COLOR_HSV2BGR)\n",
    "#                 bgr2=np.array(cv2.cvtColor(hsv,cv2.COLOR_HSV2BGR),np.uint32)\n",
    "#                 cv2.imshow('frame2',bgr)\n",
    "                vect_temp=np.array(hsv[...,0]).flatten()\n",
    "                vector_de_frames=np.concatenate((vector_de_frames,vect_temp),axis=0)\n",
    "    \n",
    "                contador=contador+1\n",
    "    \n",
    "#                 k = cv2.waitKey(30) & 0xff\n",
    "#                 if k == 27:\n",
    "#                     break\n",
    "#                 elif k == ord('s'):\n",
    "#                     cv2.imwrite('opticalfb.png',frame2)\n",
    "#                     cv2.imwrite('opticalhsv.png',bgr)\n",
    "                prvs = next\n",
    "            except:\n",
    "                break    \n",
    "#         print(len(array_vecs))\n",
    "#             se dividirá el vector de frames en cuantas palabras tenga el video\n",
    "        tamaño_vec=len(vector_de_frames)\n",
    "        with open('putos_todos.csv', 'w', newline='') as csvfile:\n",
    "            filewriter = csv.writer(csvfile, delimiter=',',quotechar='|', quoting=csv.QUOTE_MINIMAL)\n",
    "            for i in range(totalWords[posicion]):\n",
    "                comienzo=int((tamaño_vec/totalWords[posicion])*(i))\n",
    "                fin=int((tamaño_vec/totalWords[posicion])*(i+1))\n",
    "#                 array_movs.append(vector_de_frames[comienzo:fin])\n",
    "                print(vector_de_frames[comienzo:fin])\n",
    "                print (vector_de_frames.shape)\n",
    "                print(type(vector_de_frames))\n",
    "                filewriter.writerow(vector_de_frames[comienzo:fin])\n",
    "    vector_de_frames=[]\n",
    "    posicion=posicion+1    \n",
    "    if(posicion==1):\n",
    "        break\n",
    "cap.release()\n",
    "cv2.destroyAllWindows()"
   ]
  },
  {
   "cell_type": "code",
   "execution_count": 13,
   "metadata": {},
   "outputs": [
    {
     "name": "stdout",
     "output_type": "stream",
     "text": [
      "['0.0', '0.0', '0.0', '0.0', '0.0', '0.0', '0.0', '0.0', '0.0', '0.0']\n",
      "['0.0', '0.0', '0.0', '0.0', '0.0', '0.0', '0.0', '0.0', '0.0', '0.0']\n",
      "['0.0', '0.0', '0.0', '0.0', '0.0', '0.0', '0.0', '0.0', '0.0', '0.0']\n"
     ]
    }
   ],
   "source": [
    "with open('putos_todos.csv', 'r') as f:\n",
    "    reader = csv.reader(f)\n",
    " \n",
    "    # read file row by row\n",
    "    for row in reader:\n",
    "        print (row[:10])"
   ]
  },
  {
   "cell_type": "code",
   "execution_count": 14,
   "metadata": {},
   "outputs": [
    {
     "data": {
      "text/plain": [
       "(3, 2365440)"
      ]
     },
     "execution_count": 14,
     "metadata": {},
     "output_type": "execute_result"
    }
   ],
   "source": [
    "np.array(array_movs).shape\n"
   ]
  },
  {
   "cell_type": "code",
   "execution_count": null,
   "metadata": {},
   "outputs": [],
   "source": [
    "# para converitr a vector las matrices y luego concadenarlas en un solo vector\n",
    "\n",
    "a=np.zeros((10,10))\n",
    "a=a.flatten()\n",
    "b=np.ones((3,5))\n",
    "b=b.flatten()\n",
    "c=np.concatenate((a,b), axis=0)\n",
    "c.shape"
   ]
  },
  {
   "cell_type": "code",
   "execution_count": null,
   "metadata": {},
   "outputs": [],
   "source": [
    "# para crear los directorios para los videos cortados\n",
    "try:\n",
    "    path=\"Files/png-segments-cutted\"\n",
    "    os.makedirs(path)\n",
    "except:\n",
    "    print(\"Ya existe el directorio\"+path)\n",
    "counter=0\n",
    "# for folder in os.listdir('Files/png-segments'):\n",
    "#     path=\"Files/png-segments-cutted/\"+folder\n",
    "    \n",
    "#     for i in range(totalWords[counter]):\n",
    "# #         print(i)\n",
    "#         try:\n",
    "#             os.makedirs(path+\"part_\"+str(i))\n",
    "#         except:\n",
    "#             print(\"Ya existe el directorio \"+path+\"part_\"+str(i))\n",
    "#     counter=counter+1\n",
    "print(len(totalWords))\n",
    "print(len(os.listdir('Files/png-segments')))"
   ]
  },
  {
   "cell_type": "code",
   "execution_count": null,
   "metadata": {},
   "outputs": [],
   "source": [
    "print(len(array_movs))\n",
    "ant=0\n",
    "for i in array_movs:\n",
    "    print(len(i))\n",
    "minin=100000\n",
    "for i in array_movs:\n",
    "    if(minin<len(i)):\n",
    "        minin=len(i)\n",
    "        \n",
    "print(\"Minimo  -----  \"+str(minin))"
   ]
  },
  {
   "cell_type": "code",
   "execution_count": null,
   "metadata": {},
   "outputs": [],
   "source": [
    "\n",
    "tamaño_vec=len(vector_de_frames)\n",
    "array_movs=[]\n",
    "for i in range(3):\n",
    "    comienzo=int((tamaño_vec/3)*(i))\n",
    "    fin=int((tamaño_vec/3)*(i+1))\n",
    "    array_movs.append(vector_de_frames[comienzo:fin])\n",
    "len(array_movs)"
   ]
  },
  {
   "cell_type": "code",
   "execution_count": null,
   "metadata": {},
   "outputs": [],
   "source": [
    "n=np.zeros(1000)\n",
    "temP=[]\n",
    "# temP=np.array(temP)\n",
    "for i in range(3):\n",
    "    comienzo=int((len(n)/3)*(i))\n",
    "    fin=int((len(n)/3)*(i+1))\n",
    "    temP.append(n[comienzo:fin])\n",
    "int(np.array(temP[2]).shape[0])+int(np.array(temP[1]).shape[0])+int(np.array(temP[0]).shape[0])"
   ]
  },
  {
   "cell_type": "code",
   "execution_count": null,
   "metadata": {},
   "outputs": [],
   "source": [
    "totalWords[0]"
   ]
  },
  {
   "cell_type": "code",
   "execution_count": null,
   "metadata": {},
   "outputs": [],
   "source": [
    "array_angs=[]\n",
    "# print(hsv[:,:,0].shape)\n",
    "i=0\n",
    "for fila in hsv[:,:,0]:\n",
    "#     print(\"Fila=\" + str(i))\n",
    "    if (np.max(fila)!=0):\n",
    "        array_angs.append(fila)\n",
    "#         print(fila)\n",
    "    \n",
    "    i=i+1\n",
    "np.array(array_angs).shape"
   ]
  },
  {
   "cell_type": "code",
   "execution_count": null,
   "metadata": {},
   "outputs": [],
   "source": [
    "n_angles = len(array_vecs)\n",
    "angle = array_vecs[8][0]\n",
    "print(angle.shape)\n",
    "\n",
    "for ang in angle:\n",
    "#     if((ang!=0) and (ang != 0.0)):\n",
    "#         print(ang)\n",
    "    print(ang)"
   ]
  },
  {
   "cell_type": "code",
   "execution_count": null,
   "metadata": {},
   "outputs": [],
   "source": [
    "n=np.array(hsv)\n",
    "print(type(n))\n",
    "print(type(n[0]))\n",
    "n.shape"
   ]
  },
  {
   "cell_type": "code",
   "execution_count": null,
   "metadata": {},
   "outputs": [],
   "source": [
    "len(array_vecs)"
   ]
  },
  {
   "cell_type": "code",
   "execution_count": null,
   "metadata": {},
   "outputs": [],
   "source": [
    "k=10\n",
    "kmeans = KMeans(n_clusters=k, random_state=0).fit(n[:,:,0])\n",
    "print(kmeans.labels_)\n",
    "print(kmeans.labels_.shape)"
   ]
  },
  {
   "cell_type": "code",
   "execution_count": null,
   "metadata": {},
   "outputs": [],
   "source": [
    "# img =n[:,:,2]\n",
    "img = hsv[...,2]\n",
    "import matplotlib.pyplot as plt\n",
    "plt.figure()\n",
    "plt.imshow(img)\n",
    "plt.colorbar()\n",
    "data_i= np.reshape(())"
   ]
  },
  {
   "cell_type": "code",
   "execution_count": null,
   "metadata": {},
   "outputs": [],
   "source": [
    "i = 10\n",
    "elemento = array_vecs[i]\n",
    "dire = elemento[0]\n",
    "mag.shape\n"
   ]
  },
  {
   "cell_type": "code",
   "execution_count": null,
   "metadata": {},
   "outputs": [],
   "source": [
    "dire.shape"
   ]
  },
  {
   "cell_type": "code",
   "execution_count": null,
   "metadata": {},
   "outputs": [],
   "source": [
    "plt.imshow(mag)"
   ]
  },
  {
   "cell_type": "code",
   "execution_count": null,
   "metadata": {},
   "outputs": [],
   "source": [
    "plt.imshow(dire)"
   ]
  },
  {
   "cell_type": "code",
   "execution_count": null,
   "metadata": {},
   "outputs": [],
   "source": [
    "import numpy as np\n",
    "x = np.cos(dire)\n",
    "y = np.sin(dire)\n",
    "x"
   ]
  },
  {
   "cell_type": "code",
   "execution_count": null,
   "metadata": {},
   "outputs": [],
   "source": [
    "plt.imshow(x + y)"
   ]
  },
  {
   "cell_type": "code",
   "execution_count": null,
   "metadata": {},
   "outputs": [],
   "source": []
  }
 ],
 "metadata": {
  "kernelspec": {
   "display_name": "Python 3",
   "language": "python",
   "name": "python3"
  },
  "language_info": {
   "codemirror_mode": {
    "name": "ipython",
    "version": 3
   },
   "file_extension": ".py",
   "mimetype": "text/x-python",
   "name": "python",
   "nbconvert_exporter": "python",
   "pygments_lexer": "ipython3",
   "version": "3.6.5"
  }
 },
 "nbformat": 4,
 "nbformat_minor": 2
}

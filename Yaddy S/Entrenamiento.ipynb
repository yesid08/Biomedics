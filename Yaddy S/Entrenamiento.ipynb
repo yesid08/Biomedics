{
 "cells": [
  {
   "cell_type": "code",
   "execution_count": 1,
   "metadata": {},
   "outputs": [],
   "source": [
    "equipo = [\"yaddy\",\"yesid\",\"john\",\"juan\"]"
   ]
  },
  {
   "cell_type": "code",
   "execution_count": 2,
   "metadata": {},
   "outputs": [
    {
     "data": {
      "text/plain": [
       "'yaddy'"
      ]
     },
     "execution_count": 2,
     "metadata": {},
     "output_type": "execute_result"
    }
   ],
   "source": [
    "equipo[0]"
   ]
  },
  {
   "cell_type": "code",
   "execution_count": 3,
   "metadata": {},
   "outputs": [
    {
     "data": {
      "text/plain": [
       "'yesid'"
      ]
     },
     "execution_count": 3,
     "metadata": {},
     "output_type": "execute_result"
    }
   ],
   "source": [
    "equipo[1]"
   ]
  },
  {
   "cell_type": "code",
   "execution_count": 4,
   "metadata": {},
   "outputs": [
    {
     "name": "stdout",
     "output_type": "stream",
     "text": [
      "yaddy\n",
      "yesid\n",
      "john\n",
      "juan\n"
     ]
    }
   ],
   "source": [
    "for todos in equipo:\n",
    "    print(todos)"
   ]
  },
  {
   "cell_type": "code",
   "execution_count": 5,
   "metadata": {},
   "outputs": [
    {
     "name": "stdout",
     "output_type": "stream",
     "text": [
      "yaddy\n",
      "yesid\n",
      "john\n",
      "juan\n"
     ]
    }
   ],
   "source": [
    "longitud= len(equipo)\n",
    "\n",
    "#cuando necesite correr por los indices por rangos\n",
    "for i in range(longitud): #range es nativo de python y range es hasta longitud-1\n",
    "    print(equipo[i])\n"
   ]
  },
  {
   "cell_type": "code",
   "execution_count": 6,
   "metadata": {},
   "outputs": [
    {
     "data": {
      "text/plain": [
       "['yaddy', 'yesid', 'john']"
      ]
     },
     "execution_count": 6,
     "metadata": {},
     "output_type": "execute_result"
    }
   ],
   "source": [
    "equipo[:3]#imprime todos los que estan antes de la posicion 3\n"
   ]
  },
  {
   "cell_type": "code",
   "execution_count": 7,
   "metadata": {},
   "outputs": [
    {
     "data": {
      "text/plain": [
       "['juan', 'john', 'yesid', 'yaddy']"
      ]
     },
     "execution_count": 7,
     "metadata": {},
     "output_type": "execute_result"
    }
   ],
   "source": [
    "equipo[::-1]#voltear la lista"
   ]
  },
  {
   "cell_type": "code",
   "execution_count": 8,
   "metadata": {},
   "outputs": [
    {
     "data": {
      "text/plain": [
       "'juan'"
      ]
     },
     "execution_count": 8,
     "metadata": {},
     "output_type": "execute_result"
    }
   ],
   "source": [
    "equipo[-1]#imprime el ultimo"
   ]
  },
  {
   "cell_type": "code",
   "execution_count": 9,
   "metadata": {},
   "outputs": [],
   "source": [
    "#librerias\n",
    "import numpy as np\n",
    "import matplotlib.pyplot as plt"
   ]
  },
  {
   "cell_type": "code",
   "execution_count": 10,
   "metadata": {},
   "outputs": [],
   "source": [
    "np.ones?"
   ]
  },
  {
   "cell_type": "code",
   "execution_count": 11,
   "metadata": {},
   "outputs": [
    {
     "data": {
      "text/plain": [
       "(2, 3)"
      ]
     },
     "execution_count": 11,
     "metadata": {},
     "output_type": "execute_result"
    }
   ],
   "source": [
    "matrix=np.ones((2,3))\n",
    "matrix.shape"
   ]
  },
  {
   "cell_type": "code",
   "execution_count": 12,
   "metadata": {},
   "outputs": [
    {
     "name": "stdout",
     "output_type": "stream",
     "text": [
      "['yaddy', 'yesid', 'john', 'juan']\n"
     ]
    }
   ],
   "source": [
    "def funcion():\n",
    "    print(equipo)\n",
    "funcion()"
   ]
  },
  {
   "cell_type": "code",
   "execution_count": 13,
   "metadata": {},
   "outputs": [],
   "source": [
    "\n",
    "m = 1/2\n",
    "b = 0\n"
   ]
  },
  {
   "cell_type": "code",
   "execution_count": 15,
   "metadata": {},
   "outputs": [
    {
     "data": {
      "text/plain": [
       "[<matplotlib.lines.Line2D at 0x25851a54160>]"
      ]
     },
     "execution_count": 15,
     "metadata": {},
     "output_type": "execute_result"
    },
    {
     "data": {
      "image/png": "[encoded data removed]",
      "text/plain": [
       "<Figure size 432x288 with 1 Axes>"
      ]
     },
     "metadata": {
      "needs_background": "light"
     },
     "output_type": "display_data"
    }
   ],
   "source": []
  },
  {
   "cell_type": "code",
   "execution_count": 20,
   "metadata": {},
   "outputs": [],
   "source": [
    "def mod_lineal(m,b):\n",
    "    x = np.linspace(-5,5) #genera los vectores uniformes distribuidos en X\n",
    "    y = m*x + b\n",
    "    plt.plot(x,y)\n",
    "    return x,y #devolver el valor de esa funcion para una varible, si esta solo, no devuelve nada"
   ]
  },
  {
   "cell_type": "code",
   "execution_count": 23,
   "metadata": {},
   "outputs": [
    {
     "data": {
      "text/plain": [
       "(array([-5.        , -4.79591837, -4.59183673, -4.3877551 , -4.18367347,\n",
       "        -3.97959184, -3.7755102 , -3.57142857, -3.36734694, -3.16326531,\n",
       "        -2.95918367, -2.75510204, -2.55102041, -2.34693878, -2.14285714,\n",
       "        -1.93877551, -1.73469388, -1.53061224, -1.32653061, -1.12244898,\n",
       "        -0.91836735, -0.71428571, -0.51020408, -0.30612245, -0.10204082,\n",
       "         0.10204082,  0.30612245,  0.51020408,  0.71428571,  0.91836735,\n",
       "         1.12244898,  1.32653061,  1.53061224,  1.73469388,  1.93877551,\n",
       "         2.14285714,  2.34693878,  2.55102041,  2.75510204,  2.95918367,\n",
       "         3.16326531,  3.36734694,  3.57142857,  3.7755102 ,  3.97959184,\n",
       "         4.18367347,  4.3877551 ,  4.59183673,  4.79591837,  5.        ]),\n",
       " array([-40.        , -37.95918367, -35.91836735, -33.87755102,\n",
       "        -31.83673469, -29.79591837, -27.75510204, -25.71428571,\n",
       "        -23.67346939, -21.63265306, -19.59183673, -17.55102041,\n",
       "        -15.51020408, -13.46938776, -11.42857143,  -9.3877551 ,\n",
       "         -7.34693878,  -5.30612245,  -3.26530612,  -1.2244898 ,\n",
       "          0.81632653,   2.85714286,   4.89795918,   6.93877551,\n",
       "          8.97959184,  11.02040816,  13.06122449,  15.10204082,\n",
       "         17.14285714,  19.18367347,  21.2244898 ,  23.26530612,\n",
       "         25.30612245,  27.34693878,  29.3877551 ,  31.42857143,\n",
       "         33.46938776,  35.51020408,  37.55102041,  39.59183673,\n",
       "         41.63265306,  43.67346939,  45.71428571,  47.75510204,\n",
       "         49.79591837,  51.83673469,  53.87755102,  55.91836735,\n",
       "         57.95918367,  60.        ]))"
      ]
     },
     "execution_count": 23,
     "metadata": {},
     "output_type": "execute_result"
    },
    {
     "data": {
      "image/png": "[encoded data removed]",
      "text/plain": [
       "<Figure size 432x288 with 1 Axes>"
      ]
     },
     "metadata": {
      "needs_background": "light"
     },
     "output_type": "display_data"
    }
   ],
   "source": [
    "mod_lineal(10,10)"
   ]
  },
  {
   "cell_type": "code",
   "execution_count": 25,
   "metadata": {},
   "outputs": [
    {
     "data": {
      "image/png": "[encoded data removed]",
      "text/plain": [
       "<Figure size 432x288 with 1 Axes>"
      ]
     },
     "metadata": {
      "needs_background": "light"
     },
     "output_type": "display_data"
    }
   ],
   "source": [
    "x,y = mod_lineal(10,10)"
   ]
  }
 ],
 "metadata": {
  "kernelspec": {
   "display_name": "Python 3",
   "language": "python",
   "name": "python3"
  },
  "language_info": {
   "codemirror_mode": {
    "name": "ipython",
    "version": 3
   },
   "file_extension": ".py",
   "mimetype": "text/x-python",
   "name": "python",
   "nbconvert_exporter": "python",
   "pygments_lexer": "ipython3",
   "version": "3.6.5"
  }
 },
 "nbformat": 4,
 "nbformat_minor": 2
}

{
 "cells": [
  {
   "cell_type": "markdown",
   "metadata": {},
   "source": [
    "# Introducción a Phyton 3!\n"
   ]
  },
  {
   "cell_type": "markdown",
   "metadata": {},
   "source": [
    "## Imprimir en pantalla ( print )"
   ]
  },
  {
   "cell_type": "code",
   "execution_count": 2,
   "metadata": {},
   "outputs": [
    {
     "name": "stdout",
     "output_type": "stream",
     "text": [
      "Esta es una prueba de mostrar en pantalla\n"
     ]
    }
   ],
   "source": [
    "#Inicialmente en python la esencia es la simplicidad del\n",
    "#codigo y las aplicaciones que usar\n",
    "#Un ejemplo basico es pintar en pantalla las diferentes variables\n",
    "#que se deseen o los diferentes texto\n",
    "\n",
    "#Use la palabra reservada print (\"\") para mostrar en pantalla\n",
    "#Use print() para mostrar en pantalla una variable usada\n",
    "#Recuerde que los archivos debe guardarlos en formato .py\n",
    "\n",
    "#ejemplo\n",
    "\n",
    "print  (\"Esta es una prueba de mostrar en pantalla\")\n",
    "\n",
    "\n",
    "#Para mostrar en pantalla lo hecho anteriormente, use la tecla F5\n",
    "#en el editor de texto de Atom\n"
   ]
  },
  {
   "cell_type": "markdown",
   "metadata": {},
   "source": [
    "## Impresión de variables \n"
   ]
  },
  {
   "cell_type": "code",
   "execution_count": 3,
   "metadata": {},
   "outputs": [
    {
     "name": "stdout",
     "output_type": "stream",
     "text": [
      "Mi cadena de caracteres\n"
     ]
    }
   ],
   "source": [
    "#Para asignar a una variable una cadena de caracteres\n",
    "#Use una variable como referencia para que guarde la cadena\n",
    "#Llame por medio del metodo print a esta variable de la\n",
    "#siguiente forma\n",
    "\n",
    "miVariable = \"Mi cadena de caracteres\"\n",
    "print (miVariable)\n",
    "\n",
    "#Recuerde que si quiere ver los resultados solo debe\n",
    "#presione la tecla f5 en el entorno Atom"
   ]
  },
  {
   "cell_type": "markdown",
   "metadata": {},
   "source": [
    "## Operadores Matemáticos"
   ]
  },
  {
   "cell_type": "code",
   "execution_count": 8,
   "metadata": {},
   "outputs": [
    {
     "name": "stdout",
     "output_type": "stream",
     "text": [
      "-------------- Suma ---------\n",
      "16\n",
      "----------- Modulo ------------ \n",
      "4\n",
      "------------ Exponente ----------\n",
      "16777216\n",
      "------------ Division entera ---- \n",
      "0\n"
     ]
    }
   ],
   "source": [
    "#Operaciones matematicas basicas\n",
    "\n",
    "#Para poder ejecutar diferentes Operaciones arimeticas en python\n",
    "#se usan las siguientes sintaxis\n",
    "\n",
    "#Para la suma\n",
    "#--- Use + para realizar la suma de dos o mas variables\n",
    "\n",
    "#Ejemplo\n",
    "\n",
    "variableA = 4\n",
    "variableB = 12\n",
    "suma = variableA + variableB\n",
    "print (\"-------------- Suma ---------\")\n",
    "print (suma)\n",
    "\n",
    "#Para las operaciones como resta, multiplicacion, division se utilizan\n",
    "#- , * y / respectivamente. Use el ejemplo anterior como base\n",
    "\n",
    "#--- Para el modulo, el exponente, y la division entera Use\n",
    "# %, **, //\n",
    "\n",
    "#ejemplo\n",
    "\n",
    "variableA = 4\n",
    "variableB = 12\n",
    "modulo = variableA%variableB\n",
    "exponente = variableA**variableB\n",
    "divEntera = variableA//variableB\n",
    "\n",
    "print (\"----------- Modulo ------------ \")\n",
    "print (modulo)\n",
    "print (\"------------ Exponente ----------\")\n",
    "print (exponente)\n",
    "print (\"------------ Division entera ---- \")\n",
    "print (divEntera)"
   ]
  },
  {
   "cell_type": "markdown",
   "metadata": {},
   "source": [
    "## Funció Type"
   ]
  },
  {
   "cell_type": "code",
   "execution_count": 9,
   "metadata": {},
   "outputs": [
    {
     "name": "stdout",
     "output_type": "stream",
     "text": [
      "<class 'str'>\n"
     ]
    }
   ],
   "source": [
    "#Primera funcion predefinida\n",
    "#type() devuelve el tipo de variable\n",
    "#Conocer el tipo de variable que esta usando python\n",
    "#puede ser de ayuda para la correcion de problemas\n",
    "\n",
    "nombre = \"Juan David\"\n",
    "\n",
    "print (type(nombre))\n",
    "\n",
    "#Por lo general al \"compilar la anterior instruccion\"\n",
    "#debera aparecerle lo siguiente\n",
    "#  < type 'str'> esto indica que la variable la asume como un\n",
    "#string\n"
   ]
  },
  {
   "cell_type": "markdown",
   "metadata": {},
   "source": [
    "## Condicionadores o Comparadores\n"
   ]
  },
  {
   "cell_type": "code",
   "execution_count": 10,
   "metadata": {},
   "outputs": [
    {
     "ename": "SyntaxError",
     "evalue": "Missing parentheses in call to 'print'. Did you mean print(\"son iguales\")? (<ipython-input-10-f03aff01d44f>, line 16)",
     "output_type": "error",
     "traceback": [
      "\u001b[1;36m  File \u001b[1;32m\"<ipython-input-10-f03aff01d44f>\"\u001b[1;36m, line \u001b[1;32m16\u001b[0m\n\u001b[1;33m    print \"son iguales\"\u001b[0m\n\u001b[1;37m                      ^\u001b[0m\n\u001b[1;31mSyntaxError\u001b[0m\u001b[1;31m:\u001b[0m Missing parentheses in call to 'print'. Did you mean print(\"son iguales\")?\n"
     ]
    }
   ],
   "source": [
    "#Los metodos comparativos ayudan a crear sentencias y condiciones\n",
    "#Para la comparacion se usa para:\n",
    "\n",
    "#Igual que: ==\n",
    "#Mayor que: >\n",
    "#Mayor o igual que : >=\n",
    "#Diferente que: !=\n",
    "#Menor que : <\n",
    "#Menor igual que: <=\n",
    "\n",
    "a = 3\n",
    "b = 5\n",
    "\n",
    "#Use : para indicar lo que sigue al bloque If\n",
    "if a==b:\n",
    "    print (\"Son iguales\")\n",
    "if a>b:\n",
    "    print (\"a es mayor a b\")\n",
    "if a>=b:\n",
    "    print (\"a es mayor o igual a b\")\n",
    "if a!=b:\n",
    "    print (\"a es diferente a b\")\n",
    "if a<b:\n",
    "    print (\"a es menor b\")\n",
    "if a<=b:\n",
    "    print (\"a es menor o igual a b\")\n",
    "\n",
    "#Para agregar la sentencia else\n",
    "#use else:\n",
    "\n",
    "#Ejemplo\n",
    "\n",
    "print (\"--------------------\")\n",
    "if a==b:\n",
    "    print (\"son iguales\"\n",
    "else:\n",
    "    print \"no son iguales\""
   ]
  },
  {
   "cell_type": "code",
   "execution_count": null,
   "metadata": {},
   "outputs": [],
   "source": []
  }
 ],
 "metadata": {
  "kernelspec": {
   "display_name": "Python 3",
   "language": "python",
   "name": "python3"
  },
  "language_info": {
   "codemirror_mode": {
    "name": "ipython",
    "version": 3
   },
   "file_extension": ".py",
   "mimetype": "text/x-python",
   "name": "python",
   "nbconvert_exporter": "python",
   "pygments_lexer": "ipython3",
   "version": "3.6.5"
  }
 },
 "nbformat": 4,
 "nbformat_minor": 2
}
